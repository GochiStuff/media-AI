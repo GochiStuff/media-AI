{
  "nbformat": 4,
  "nbformat_minor": 0,
  "metadata": {
    "colab": {
      "provenance": [],
      "authorship_tag": "ABX9TyOsSswn7KVzDOeqpIECAcit",
      "include_colab_link": true
    },
    "kernelspec": {
      "name": "python3",
      "display_name": "Python 3"
    },
    "language_info": {
      "name": "python"
    }
  },
  "cells": [
    {
      "cell_type": "markdown",
      "metadata": {
        "id": "view-in-github",
        "colab_type": "text"
      },
      "source": [
        "<a href=\"https://colab.research.google.com/github/GochiStuff/media-AI/blob/main/movieRecSystemV1.ipynb\" target=\"_parent\"><img src=\"https://colab.research.google.com/assets/colab-badge.svg\" alt=\"Open In Colab\"/></a>"
      ]
    },
    {
      "cell_type": "code",
      "source": [
        "import kagglehub\n",
        "import pandas as pd\n",
        "import matplotlib.pyplot as plt\n",
        "from sklearn.feature_extraction.text import TfidfVectorizer\n",
        "from sklearn.feature_extraction.text import CountVectorizer\n",
        "from sklearn.metrics.pairwise import linear_kernel\n",
        "from sklearn.metrics.pairwise import cosine_similarity\n",
        "from ast import literal_eval\n"
      ],
      "metadata": {
        "id": "EfUe2XKcgYVV"
      },
      "execution_count": 5,
      "outputs": []
    },
    {
      "cell_type": "code",
      "execution_count": 10,
      "metadata": {
        "id": "CwZJ-TzBKJjK",
        "colab": {
          "base_uri": "https://localhost:8080/"
        },
        "outputId": "2720946e-f480-404c-b4d3-59217f0fbeb5"
      },
      "outputs": [
        {
          "output_type": "stream",
          "name": "stdout",
          "text": [
            "path to data files:  /root/.cache/kagglehub/datasets/tmdb/tmdb-movie-metadata/versions/2\n"
          ]
        }
      ],
      "source": [
        "\n",
        "path = kagglehub.dataset_download(\"tmdb/tmdb-movie-metadata\")\n",
        "\n",
        "print(\"path to data files: \" , path)"
      ]
    },
    {
      "cell_type": "markdown",
      "source": [
        "Lets first gather some data about movies ( starting of with movies only ) and start building some ML model.\n",
        "\n",
        "Using TMDB 5000 Movies dataset."
      ],
      "metadata": {
        "id": "SwkJIVBFf_87"
      }
    },
    {
      "cell_type": "markdown",
      "source": [
        "Types of Recommendation Systems\n",
        "\n",
        "Generally , there are three types of such system .\n",
        "\n",
        "1. Demographic Filter: the recommendation are same for every user despite their interest.\n",
        "used for top trending , etc.\n",
        "\n",
        "2. content-based filteration : Filter are based on movie meta data. system will recommend movies so the user will like them .\n",
        "\n",
        "3. collaboration-based filteration : Here the system group users with similar interests and recommends movies to them // BRO THIS IS WHAT I THOUGHT . I thought it was my orignal Idea XC.\n",
        "\n",
        "\n",
        "what I want to achieve ."
      ],
      "metadata": {
        "id": "D96HyL_kgz6X"
      }
    },
    {
      "cell_type": "code",
      "source": [
        "print(\"YASH is going to build a super awesome AI that no one can beat !! \")"
      ],
      "metadata": {
        "colab": {
          "base_uri": "https://localhost:8080/"
        },
        "id": "8fvwyS52iVL8",
        "outputId": "f2aa2665-48a0-483a-89e3-4f681b0d7137"
      },
      "execution_count": 7,
      "outputs": [
        {
          "output_type": "stream",
          "name": "stdout",
          "text": [
            "YASH is going to build a super awesome AI that no one can beat !! \n"
          ]
        }
      ]
    },
    {
      "cell_type": "markdown",
      "source": [
        "What I want to build .\n",
        "\n",
        "1. A system that understand its user emotions and mood.\n",
        "  Allow users to input their current mood manually.\n",
        "  Use AI-based sentiment analysis (e.g., detect mood from text input or voice).\n",
        "\n",
        "2. Context-Aware Recommendations\n",
        "3. Hybrid Recommendation Engine\n",
        "Combining Methods: Fuse collaborative filtering, content-based methods, and demographic insights with emotion and mood analysis. This creates a richer, more personalized profile.\n",
        "Adaptive Learning: Implement reinforcement learning so the system improves its recommendations based on user interactions over time.\n",
        "\n",
        "4. Explainable AI\n",
        "Transparency: Provide users with insights on why a movie was recommended—be it due to their current mood, past behavior, or trending patterns among similar users.\n",
        "Trust Building: This feature increases trust and lets users tweak parameters if they feel a recommendation doesn’t match their current taste.\n",
        "\n",
        "5. Private . Version wise update the ai , else locally process.\n",
        "\n",
        "... etc etc as I think of\n",
        "\n",
        "\n",
        "but for Now I am only working on ver 1 Beta"
      ],
      "metadata": {
        "id": "bfRL4nOvihqr"
      }
    },
    {
      "cell_type": "markdown",
      "source": [],
      "metadata": {
        "id": "Hzr3znn1ibZu"
      }
    },
    {
      "cell_type": "code",
      "source": [
        "credits_df = pd.read_csv(path + \"/tmdb_5000_credits.csv\")\n",
        "movies_df = pd.read_csv(path + \"/tmdb_5000_movies.csv\")\n",
        "\n",
        "print(movies_df.loc[1])"
      ],
      "metadata": {
        "colab": {
          "base_uri": "https://localhost:8080/"
        },
        "id": "VtpKOS9mgPNl",
        "outputId": "3459daeb-68a5-43c1-d29c-ffc0bf7b6271"
      },
      "execution_count": 25,
      "outputs": [
        {
          "output_type": "stream",
          "name": "stdout",
          "text": [
            "budget                                                          300000000\n",
            "genres                  [{\"id\": 12, \"name\": \"Adventure\"}, {\"id\": 14, \"...\n",
            "homepage                     http://disney.go.com/disneypictures/pirates/\n",
            "id                                                                    285\n",
            "keywords                [{\"id\": 270, \"name\": \"ocean\"}, {\"id\": 726, \"na...\n",
            "original_language                                                      en\n",
            "original_title                   Pirates of the Caribbean: At World's End\n",
            "overview                Captain Barbossa, long believed to be dead, ha...\n",
            "popularity                                                     139.082615\n",
            "production_companies    [{\"name\": \"Walt Disney Pictures\", \"id\": 2}, {\"...\n",
            "production_countries    [{\"iso_3166_1\": \"US\", \"name\": \"United States o...\n",
            "release_date                                                   2007-05-19\n",
            "revenue                                                         961000000\n",
            "runtime                                                             169.0\n",
            "spoken_languages                 [{\"iso_639_1\": \"en\", \"name\": \"English\"}]\n",
            "status                                                           Released\n",
            "tagline                    At the end of the world, the adventure begins.\n",
            "title                            Pirates of the Caribbean: At World's End\n",
            "vote_average                                                          6.9\n",
            "vote_count                                                           4500\n",
            "Name: 1, dtype: object\n"
          ]
        }
      ]
    },
    {
      "cell_type": "markdown",
      "source": [
        "Now merge both the datasets into the movie data frame and view it."
      ],
      "metadata": {
        "id": "fWh283p5l7GR"
      }
    },
    {
      "cell_type": "code",
      "source": [
        "credits_df.columns = ['id','title','cast','crew']\n",
        "movies_df = movies_df.merge(credits_df, on='id')\n",
        "print(movies_df.head())"
      ],
      "metadata": {
        "colab": {
          "base_uri": "https://localhost:8080/"
        },
        "id": "EwFgQ2ODl7tH",
        "outputId": "ddc4594e-8e19-4e37-b00c-b350a9f47748"
      },
      "execution_count": 26,
      "outputs": [
        {
          "output_type": "stream",
          "name": "stdout",
          "text": [
            "      budget  ...                                               crew\n",
            "0  237000000  ...  [{\"credit_id\": \"52fe48009251416c750aca23\", \"de...\n",
            "1  300000000  ...  [{\"credit_id\": \"52fe4232c3a36847f800b579\", \"de...\n",
            "2  245000000  ...  [{\"credit_id\": \"54805967c3a36829b5002c41\", \"de...\n",
            "3  250000000  ...  [{\"credit_id\": \"52fe4781c3a36847f81398c3\", \"de...\n",
            "4  260000000  ...  [{\"credit_id\": \"52fe479ac3a36847f813eaa3\", \"de...\n",
            "\n",
            "[5 rows x 23 columns]\n"
          ]
        }
      ]
    },
    {
      "cell_type": "markdown",
      "source": [],
      "metadata": {
        "id": "Y2hWS4SfmIc-"
      }
    },
    {
      "cell_type": "markdown",
      "source": [
        "# Start Building VB01"
      ],
      "metadata": {
        "id": "jImaXEgJmKP0"
      }
    },
    {
      "cell_type": "markdown",
      "source": [
        "Demographic Filteration"
      ],
      "metadata": {
        "id": "UUNUUNRcmbdM"
      }
    },
    {
      "cell_type": "code",
      "source": [
        "# Calculate the mean vote average and 90th percentile vote count\n",
        "c = movies_df['vote_average'].mean()\n",
        "m = movies_df['vote_count'].quantile(0.9)\n",
        "\n",
        "print(c)  # 6.092171559442016\n",
        "print(m)  # 1838.4000000000015\n",
        "\n",
        "# Keep only movies with vote_count >= m\n",
        "new_movies_df = movies_df.loc[movies_df[\"vote_count\"] >= m].copy()\n",
        "\n",
        "print(new_movies_df.shape)  # (481, 23)\n",
        "\n",
        "# Rename title column if needed\n",
        "if \"title_x\" in new_movies_df.columns:\n",
        "    new_movies_df.rename(columns={\"title_x\": \"title\"}, inplace=True)\n",
        "elif \"title_y\" in new_movies_df.columns:\n",
        "    new_movies_df.rename(columns={\"title_y\": \"title\"}, inplace=True)\n",
        "\n",
        "# Define weighted rating function\n",
        "def weighted_rating(x, m=m, c=c):\n",
        "    v = x['vote_count']\n",
        "    R = x['vote_average']\n",
        "    return (v / (v + m) * R) + (m / (m + v) * c)\n",
        "\n",
        "# Apply weighted rating and sort movies\n",
        "new_movies_df['score'] = new_movies_df.apply(weighted_rating, axis=1)\n",
        "new_movies_df = new_movies_df.sort_values('score', ascending=False)\n",
        "\n",
        "# Display top 10 movies\n",
        "print(new_movies_df[['title', 'vote_count', 'vote_average', 'score']].head(10))\n"
      ],
      "metadata": {
        "colab": {
          "base_uri": "https://localhost:8080/"
        },
        "id": "UuJeNh3EmbMF",
        "outputId": "87e8c8a4-5563-424e-b9a0-07ebe19848cf"
      },
      "execution_count": 32,
      "outputs": [
        {
          "output_type": "stream",
          "name": "stdout",
          "text": [
            "6.092171559442016\n",
            "1838.4000000000015\n",
            "(481, 23)\n",
            "Index(['budget', 'genres', 'homepage', 'id', 'keywords', 'original_language',\n",
            "       'original_title', 'overview', 'popularity', 'production_companies',\n",
            "       'production_countries', 'release_date', 'revenue', 'runtime',\n",
            "       'spoken_languages', 'status', 'tagline', 'title_x', 'vote_average',\n",
            "       'vote_count', 'title_y', 'cast', 'crew'],\n",
            "      dtype='object')\n",
            "                                              title  vote_count  vote_average     score\n",
            "1881                       The Shawshank Redemption        8205           8.5  8.059258\n",
            "662                                      Fight Club        9413           8.3  7.939256\n",
            "65                                  The Dark Knight       12002           8.2  7.920020\n",
            "3232                                   Pulp Fiction        8428           8.3  7.904645\n",
            "96                                        Inception       13752           8.1  7.863239\n",
            "3337                                  The Godfather        5893           8.4  7.851236\n",
            "95                                     Interstellar       10867           8.1  7.809479\n",
            "809                                    Forrest Gump        7927           8.2  7.803188\n",
            "329   The Lord of the Rings: The Return of the King        8064           8.1  7.727243\n",
            "1990                        The Empire Strikes Back        5879           8.2  7.697884\n"
          ]
        }
      ]
    },
    {
      "cell_type": "markdown",
      "source": [],
      "metadata": {
        "id": "PzV5UGxCmPdK"
      }
    },
    {
      "cell_type": "markdown",
      "source": [
        "content - based Filtering\n"
      ],
      "metadata": {
        "id": "SC-XgosWoedY"
      }
    },
    {
      "cell_type": "code",
      "source": [
        "# Step 1: Load and Preprocess Overview\n",
        "movies_df[\"overview\"] = movies_df[\"overview\"].fillna(\"\")\n",
        "\n",
        "# Step 2: Apply TF-IDF Vectorization\n",
        "tfidf = TfidfVectorizer(stop_words=\"english\")\n",
        "tfidf_matrix = tfidf.fit_transform(movies_df[\"overview\"])\n",
        "print(\"TF-IDF Matrix Shape:\", tfidf_matrix.shape)  # Example: (4800, 20000)\n",
        "\n",
        "# Step 3: Compute Cosine Similarity\n",
        "cosine_sim = linear_kernel(tfidf_matrix, tfidf_matrix)\n",
        "print(\"Cosine Similarity Matrix Shape:\", cosine_sim.shape)  # Example: (4800, 4800)\n",
        "\n",
        "# Step 4: Create a Reverse Lookup Table for Movie Titles\n",
        "indices = pd.Series(movies_df.index, index=movies_df[\"title_x\"]).drop_duplicates()\n",
        "print(indices.head(5))\n"
      ],
      "metadata": {
        "colab": {
          "base_uri": "https://localhost:8080/"
        },
        "id": "xCXXwsTRohY0",
        "outputId": "c1f1bb8f-9756-483d-e756-1378d8dafb9f"
      },
      "execution_count": 45,
      "outputs": [
        {
          "output_type": "stream",
          "name": "stdout",
          "text": [
            "TF-IDF Matrix Shape: (4803, 20978)\n",
            "Cosine Similarity Matrix Shape: (4803, 4803)\n",
            "title_x\n",
            "Avatar                                      0\n",
            "Pirates of the Caribbean: At World's End    1\n",
            "Spectre                                     2\n",
            "The Dark Knight Rises                       3\n",
            "John Carter                                 4\n",
            "dtype: int64\n"
          ]
        }
      ]
    },
    {
      "cell_type": "code",
      "source": [
        "from difflib import get_close_matches\n",
        "\n",
        "def get_recommendations(title, cosine_sim=cosine_sim, movies_df=movies_df, indices=indices):\n",
        "    # Step 1: Get the index of the movie that matches the title\n",
        "    if title not in indices:\n",
        "        close_matches = get_close_matches(title, list(indices.index), n=6, cutoff=0.6)\n",
        "        if close_matches:\n",
        "            return \"Movie not found in dataset. Did you mean: \" + \", \".join(close_matches) + \"?\"\n",
        "        else:\n",
        "            return \"Movie not found in dataset. Try another title.\"\n",
        "\n",
        "    idx = indices[title]\n",
        "\n",
        "    # Step 2: Get the pairwise similarity scores of all movies with that movie\n",
        "    sim_scores = list(enumerate(cosine_sim[idx]))\n",
        "\n",
        "    # Step 3: Sort the movies based on similarity scores (Descending order)\n",
        "    sim_scores = sorted(sim_scores, key=lambda x: x[1], reverse=True)\n",
        "\n",
        "    # Step 4: Get the top 10 most similar movies (excluding the input movie)\n",
        "    sim_scores = sim_scores[1:11]\n",
        "\n",
        "    # Step 5: Get the movie indices\n",
        "    movie_indices = [i[0] for i in sim_scores]\n",
        "\n",
        "    # Step 6: Return the top 10 similar movies\n",
        "    return movies_df[\"title_x\"].iloc[movie_indices]\n",
        "\n",
        "# Example Usage:\n",
        "finder = input(\"What movie ?? : \")\n",
        "print(get_recommendations(finder))\n"
      ],
      "metadata": {
        "colab": {
          "base_uri": "https://localhost:8080/"
        },
        "id": "0X2P6HmHqMg2",
        "outputId": "f9ed4310-ce92-482b-85ec-bdfffb368c1d"
      },
      "execution_count": 71,
      "outputs": [
        {
          "output_type": "stream",
          "name": "stdout",
          "text": [
            "What movie ?? : Begin\n",
            "Movie not found in dataset. Did you mean: Legion, Beginners, Begin Again, Megamind, Benji?\n"
          ]
        }
      ]
    }
  ]
}